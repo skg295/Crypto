{
 "cells": [
  {
   "cell_type": "code",
   "execution_count": 5,
   "id": "7a5aa757-37be-4e91-80b3-2f3f191e9b47",
   "metadata": {},
   "outputs": [
    {
     "name": "stdout",
     "output_type": "stream",
     "text": [
      "UPS\n",
      "TTXOPNHJCINQGNOVGMGIAKVPHOZDWZAY\n"
     ]
    }
   ],
   "source": [
    "from enigma.rotors.rotor import Rotor\n",
    "from enigma.plugboard import Plugboard\n",
    "from enigma.machine import EnigmaMachine\n",
    "rL = Rotor('my rotor1', 'EKMFLGDQVZNTOWYHXUSPAIBRCJ', ring_setting=0, stepping='Q')\n",
    "rM = Rotor('my rotor2', 'BDFHJLCPRTXVZNYEIWGAKMUSQO', ring_setting=5, stepping='V')\n",
    "rR = Rotor('my rotor3', 'ESOVPZJAYQUIRHXLNFTGKDCMWB', ring_setting=10, stepping='J')\n",
    "reflector = Rotor('my reflector', 'YRUHQSLDPXNGOKMIEBFZCWVJAT')\n",
    "pb = Plugboard.from_key_sheet('AK BZ CG DL FU HJ MX NR OY PW')\n",
    "machine = EnigmaMachine([rL, rM, rR], reflector, pb)\n",
    "machine.set_display('UPS') # set rotor positions or use its default\n",
    "position = machine.get_display() # read rotor position\n",
    "print(position)\n",
    "# Encrypt A letter\n",
    "#print(machine.key_press('C'))\n",
    "# Encrypt a text\n",
    "print(machine.process_text('Enigma machine is powerful for Q'))"
   ]
  },
  {
   "cell_type": "code",
   "execution_count": 6,
   "id": "fef7fb1c-79e9-4a9a-8c66-6b6aa32e7f52",
   "metadata": {},
   "outputs": [
    {
     "name": "stdout",
     "output_type": "stream",
     "text": [
      "Ciphertext: TQZGABXVIFW\n"
     ]
    }
   ],
   "source": [
    "def affine_encrypt(plaintext, a, b):\n",
    "    # Helper function to convert a letter to a number (A=0, B=1, ..., Z=25)\n",
    "    def char_to_num(char):\n",
    "        return ord(char) - ord('A')\n",
    "    \n",
    "    # Helper function to convert a number back to a letter\n",
    "    def num_to_char(num):\n",
    "        return chr(num + ord('A'))\n",
    "    \n",
    "    ciphertext = \"\"\n",
    "    \n",
    "    # Loop through each character in the plaintext\n",
    "    for char in plaintext:\n",
    "        if char.isalpha():  # Make sure to process only letters\n",
    "            p = char_to_num(char.upper())  # Convert to number\n",
    "            c = (a * p + b) % 26           # Apply the Affine cipher formula\n",
    "            ciphertext += num_to_char(c)   # Convert the number back to a letter\n",
    "    \n",
    "    return ciphertext\n",
    "\n",
    "# Define the encryption keys (from the formula given)\n",
    "a = 5\n",
    "b = 9\n",
    "\n",
    "# The plaintext message\n",
    "plaintext = \"CRYPTOISFUN\"\n",
    "\n",
    "# Encrypt the plaintext\n",
    "ciphertext = affine_encrypt(plaintext, a, b)\n",
    "\n",
    "# Output the result\n",
    "print(\"Ciphertext:\", ciphertext)\n"
   ]
  },
  {
   "cell_type": "code",
   "execution_count": null,
   "id": "5b3d7bad-05f5-457b-a75b-fb11549ccc30",
   "metadata": {},
   "outputs": [],
   "source": []
  }
 ],
 "metadata": {
  "kernelspec": {
   "display_name": "Python 3 (ipykernel)",
   "language": "python",
   "name": "python3"
  },
  "language_info": {
   "codemirror_mode": {
    "name": "ipython",
    "version": 3
   },
   "file_extension": ".py",
   "mimetype": "text/x-python",
   "name": "python",
   "nbconvert_exporter": "python",
   "pygments_lexer": "ipython3",
   "version": "3.12.2"
  }
 },
 "nbformat": 4,
 "nbformat_minor": 5
}
